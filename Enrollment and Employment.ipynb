{
 "cells": [
  {
   "cell_type": "markdown",
   "metadata": {},
   "source": [
    "### Import Packages"
   ]
  },
  {
   "cell_type": "code",
   "execution_count": 1,
   "metadata": {},
   "outputs": [],
   "source": [
    "import pandas as pd\n",
    "import numpy as np\n",
    "import matplotlib.pyplot as plt\n",
    "import statsmodels.api as sm\n",
    "from sklearn import metrics\n",
    "from sklearn.preprocessing import PolynomialFeatures\n",
    "from sklearn.linear_model import Lasso\n",
    "from sklearn import preprocessing\n",
    "from sklearn.preprocessing import PolynomialFeatures\n",
    "from sklearn.model_selection import GridSearchCV\n",
    "from sklearn.model_selection import train_test_split"
   ]
  },
  {
   "cell_type": "markdown",
   "metadata": {},
   "source": [
    "### Replace Non-Disclosed Values with:\n",
    "### Average Employees per Establishment * Number of Establishments\n",
    "###### Some employment levels (Emplv) were not reported, however the count of establishments  (Qtrly_Estabs) was reported for all instances.\n",
    "###### So, the average number of employees per an establishment where the employment level is not missing (reported as zero with more than one establishment) is taken for each NAICS-sector, and then multiplied by the number of establishments"
   ]
  },
  {
   "cell_type": "code",
   "execution_count": null,
   "metadata": {},
   "outputs": [],
   "source": [
    "AFFH = np.array(df['Agriculture_Forestry_Fishing_and_Hunting_Emplv'] / \n",
    "               df['Agriculture_Forestry_Fishing_and_Hunting_Qtrly_Estabs'])\n",
    "AFFH = AFFH[AFFH > 0].mean()\n",
    "\n",
    "MQOGE = np.array(df['Mining_Quarrying_and_Oil_and_Gas_Extraction_Emplv'] / \n",
    "               df['Mining_Quarrying_and_Oil_and_Gas_Extraction_Qtrly_Estabs'])\n",
    "MQOGE = MQOGE[MQOGE > 0].mean()\n",
    "\n",
    "UTL = np.array(df['Utilities_Emplv'] / df['Utilities_Qtrly_Estabs'])\n",
    "UTL = UTL[UTL > 0].mean()\n",
    "\n",
    "CON = np.array(df['Construction_Emplv'] / df['Construction_Qtrly_Estabs'])\n",
    "CON = CON[CON > 0].mean()\n",
    "\n",
    "MAN = np.array(df['Manufacturing_Emplv'] / df['Manufacturing_Qtrly_Estabs'])\n",
    "MAN = MAN[MAN > 0].mean()\n",
    "\n",
    "WTD = np.array(df['Wholesale_Trade_Emplv'] / df['Wholesale_Trade_Qtrly_Estabs'])\n",
    "WTD = WTD[WTD > 0].mean()\n",
    "\n",
    "RTD = np.array(df['Retail_Trade_Emplv'] / df['Retail_Trade_Qtrly_Estabs'])\n",
    "RTD = RTD[RTD > 0].mean()\n",
    "\n",
    "TWH = np.array(df['Transportation_and_Warehousing_Emplv'] / \n",
    "               df['Transportation_and_Warehousing_Qtrly_Estabs'])\n",
    "TWH = TWH[TWH > 0].mean()\n",
    "\n",
    "INF = np.array(df['Information_Emplv'] / df['Information_Qtrly_Estabs'])\n",
    "INF = INF[INF > 0].mean()\n",
    "\n",
    "FIS = np.array(df['Finance_and_Insurance_Emplv'] / df['Finance_and_Insurance_Qtrly_Estabs'])\n",
    "FIS = FIS[FIS > 0].mean()\n",
    "\n",
    "RERL = np.array(df['Real_Estate_and_Rental_and_Leasing_Emplv'] / \n",
    "               df['Real_Estate_and_Rental_and_Leasing_Qtrly_Estabs'])\n",
    "RERL = RERL[RERL > 0].mean()\n",
    "\n",
    "PTS = np.array(df['Professional_and_Technical_Services_Emplv'] /\n",
    "              df['Professional_and_Technical_Services_Qtrly_Estabs'])\n",
    "PTS = PTS[PTS > 0].mean()\n",
    "\n",
    "MCE = np.array(df['Management_of_Companies_and_Enterprises_Emplv'] / \n",
    "               df['Management_of_Companies_and_Enterprises_Qtrly_Estabs'])\n",
    "MCE = MCE[MCE > 0].mean()\n",
    "\n",
    "AWS = np.array(df['Administrative_and_Waste_Services_Emplv'] / \n",
    "               df['Administrative_and_Waste_Services_Qtrly_Estabs'])\n",
    "AWS = AWS[AWS > 0].mean()\n",
    "\n",
    "EDS = np.array(df['Educational_Services_Emplv'] / df['Educational_Services_Qtrly_Estabs'])\n",
    "EDS = EDS[EDS > 0].mean()\n",
    "\n",
    "HCSA = np.array(df['Health_Care_and_Social_Assistance_Emplv'] / \n",
    "               df['Health_Care_and_Social_Assistance_Qtrly_Estabs'])\n",
    "HCSA = HCSA[HCSA > 0].mean()\n",
    "\n",
    "AER = np.array(df['Arts_Entertainment_and_Recreation_Emplv'] / \n",
    "               df['Arts_Entertainment_and_Recreation_Qtrly_Estabs'])\n",
    "AER = AER[AER > 0].mean()\n",
    "\n",
    "AFS = np.array(df['Accommodation_and_Food_Services_Emplv'] / \n",
    "               df['Accommodation_and_Food_Services_Qtrly_Estabs'])\n",
    "AFS = AFS[AFS > 0].mean()\n",
    "\n",
    "OSEPA = np.array(df['Other_Services_Except_Public_Administration_Emplv'] / \n",
    "               df['Transportation_and_Warehousing_Qtrly_Estabs'])\n",
    "OSEPA = OSEPA[OSEPA > 0].mean()\n",
    "\n",
    "PAD = np.array(df['Public_Administration_Emplv'] / \n",
    "               df['Public_Administration_Qtrly_Estabs'])\n",
    "PAD = PAD[PAD > 0].mean()\n",
    "\n",
    "\n",
    "\n",
    "df.loc[df['Agriculture_Forestry_Fishing_and_Hunting_Emplv'] == 0\n",
    ",'Agriculture_Forestry_Fishing_and_Hunting_Emplv'] = df['Agriculture_Forestry_Fishing_and_Hunting_Qtrly_Estabs'] * AFFH\n",
    "\n",
    "df.loc[df['Mining_Quarrying_and_Oil_and_Gas_Extraction_Emplv'] == 0\n",
    ",'Mining_Quarrying_and_Oil_and_Gas_Extraction_Emplv'] = df['Mining_Quarrying_and_Oil_and_Gas_Extraction_Qtrly_Estabs'] * MQOGE\n",
    "\n",
    "df.loc[df['Utilities_Emplv'] == 0\n",
    ",'Utilities_Emplv'] = df['Utilities_Qtrly_Estabs'] * UTL\n",
    "\n",
    "df.loc[df['Construction_Emplv'] == 0\n",
    ",'Construction_Emplv'] = df['Construction_Qtrly_Estabs'] * CON\n",
    "\n",
    "df.loc[df['Manufacturing_Emplv'] == 0\n",
    ",'Manufacturing_Emplv'] = df['Manufacturing_Qtrly_Estabs'] * MAN\n",
    "\n",
    "df.loc[df['Wholesale_Trade_Emplv'] == 0\n",
    ",'Wholesale_Trade_Emplv'] = df['Wholesale_Trade_Qtrly_Estabs'] * WTD\n",
    "\n",
    "df.loc[df['Retail_Trade_Emplv'] == 0\n",
    ",'Retail_Trade_Emplv'] = df['Retail_Trade_Qtrly_Estabs'] * RTD\n",
    "\n",
    "df.loc[df['Transportation_and_Warehousing_Emplv'] == 0\n",
    ",'Transportation_and_Warehousing_Emplv'] = df['Transportation_and_Warehousing_Qtrly_Estabs'] * TWH\n",
    "\n",
    "df.loc[df['Information_Emplv'] == 0\n",
    ",'Information_Emplv'] = df['Information_Qtrly_Estabs'] * INF\n",
    "\n",
    "df.loc[df['Finance_and_Insurance_Emplv'] == 0\n",
    ",'Finance_and_Insurance_Emplv'] = df['Finance_and_Insurance_Qtrly_Estabs'] * FIS\n",
    "\n",
    "df.loc[df['Real_Estate_and_Rental_and_Leasing_Emplv'] == 0\n",
    ",'Real_Estate_and_Rental_and_Leasing_Emplv'] = df['Real_Estate_and_Rental_and_Leasing_Qtrly_Estabs'] * RERL\n",
    "\n",
    "df.loc[df['Professional_and_Technical_Services_Emplv'] == 0\n",
    ",'Professional_and_Technical_Services_Emplv'] = df['Professional_and_Technical_Services_Qtrly_Estabs'] * PTS\n",
    "\n",
    "df.loc[df['Management_of_Companies_and_Enterprises_Emplv'] == 0\n",
    ",'Management_of_Companies_and_Enterprises_Emplv'] = df['Management_of_Companies_and_Enterprises_Qtrly_Estabs'] * MCE\n",
    "\n",
    "df.loc[df['Administrative_and_Waste_Services_Emplv'] == 0\n",
    ",'Administrative_and_Waste_Services_Emplv'] = df['Administrative_and_Waste_Services_Qtrly_Estabs'] * AWS\n",
    "\n",
    "df.loc[df['Educational_Services_Emplv'] == 0\n",
    ",'Educational_Services_Emplv'] = df['Educational_Services_Qtrly_Estabs'] * EDS\n",
    "\n",
    "df.loc[df['Health_Care_and_Social_Assistance_Emplv'] == 0\n",
    ",'Health_Care_and_Social_Assistance_Emplv'] = df['Health_Care_and_Social_Assistance_Qtrly_Estabs'] * HCSA\n",
    "\n",
    "df.loc[df['Arts_Entertainment_and_Recreation_Emplv'] == 0\n",
    ",'Arts_Entertainment_and_Recreation_Emplv'] = df['Arts_Entertainment_and_Recreation_Qtrly_Estabs'] * AER\n",
    "\n",
    "df.loc[df['Accommodation_and_Food_Services_Emplv'] == 0\n",
    ",'Accommodation_and_Food_Services_Emplv'] = df['Accommodation_and_Food_Services_Qtrly_Estabs'] * AFS\n",
    "\n",
    "df.loc[df['Other_Services_Except_Public_Administration_Emplv'] == 0\n",
    ",'Other_Services_Except_Public_Administration_Emplv'] = df['Other_Services_Except_Public_Administration_Qtrly_Estabs'] * OSEPA\n",
    "\n",
    "df.loc[df['Public_Administration_Emplv'] == 0\n",
    ",'Public_Administration_Emplv'] = df['Public_Administration_Qtrly_Estabs'] * PAD"
   ]
  },
  {
   "cell_type": "code",
   "execution_count": 2,
   "metadata": {},
   "outputs": [],
   "source": [
    "df = pd.read_csv(r\"C:\\Users\\steve\\Documents\\Medicaid_COVID-19\\Polished\\Enr_Ind_14_19_Qtr_Em_2.csv\"\n",
    "                ,converters={'area_fips': lambda x: str(x)})"
   ]
  },
  {
   "cell_type": "markdown",
   "metadata": {},
   "source": [
    "### Define X and y\n",
    "###### Quarterly Establishments columns are removed before this step.\n",
    "###### X is defined as each NAICS-sector's employment level and population all quarterly, at the county level (n=1609).\n",
    "###### Y is defined as either total Alabma Medicaid Agency enrollment (McaidTot) or Alabama Medicaid Agency child enrollment (children) also quarterly, at the county level."
   ]
  },
  {
   "cell_type": "code",
   "execution_count": 3,
   "metadata": {},
   "outputs": [],
   "source": [
    "#Done to conteract for loop and maintain unemployment rate\n",
    "df['UR'] = (df['UR'] * df['Population']) / 100\n",
    "\n",
    "#Copy df and drop non-predictors\n",
    "X = df.copy()\n",
    "X.drop(['area_fips', 'Year', 'Qtr', 'Children', 'McaidTot', 'CountyName']\n",
    "       ,axis = 1, inplace = True)\n",
    "\n",
    "#For loop dividing all columns by the population\n",
    "colm = list(X.columns.values)\n",
    "for col in colm:\n",
    "    X[col] = (X[col]/X['Population'])\n",
    "    \n",
    "#Drop population because it is all 1s and replace with df.Population    \n",
    "X.drop(['Population'], axis = 1, inplace = True)\n",
    "X['Population'] = df['Population']\n",
    "\n",
    "col = list(X.columns.values)\n",
    "\n",
    "#Define ys for total and child enrollment\n",
    "yt = np.log(df['McaidTot'])\n",
    "yc = np.log(df['Children'])"
   ]
  },
  {
   "cell_type": "markdown",
   "metadata": {},
   "source": [
    "### Partion and Standardize\n",
    "###### A machine learning model with cross-validation will be used so partitioning the data (randomly making two data sets) is neccessary\n",
    "###### preprocessing.scale puts all the predictors on the same scale. This is particularly important for population as it is in the thousands, while the rest of the predictors are between 0 and 1"
   ]
  },
  {
   "cell_type": "code",
   "execution_count": 4,
   "metadata": {},
   "outputs": [],
   "source": [
    "X_train, X_test, yt_train, yt_test, yc_train, yc_test = train_test_split(X, yt, yc\n",
    "                                                        ,test_size = 0.33, random_state = 42)\n",
    "\n",
    "X_train = preprocessing.scale(X_train)\n",
    "X_test = preprocessing.scale(X_test)"
   ]
  },
  {
   "cell_type": "markdown",
   "metadata": {},
   "source": [
    "### Run a grid search to optimize lambda (a.k.a. alpha) for both lasso regressions\n",
    "###### Further optimization reveals an alpha of 0.001 for total and 0.0009 for children"
   ]
  },
  {
   "cell_type": "code",
   "execution_count": null,
   "metadata": {},
   "outputs": [],
   "source": [
    "param_grid = { 'alpha': \n",
    "              [.00001, .0001, .001, .01, .1]\n",
    "             }\n",
    "grid_search = GridSearchCV(estimator = Lasso(), param_grid = param_grid, cv = 5, n_jobs = -1, verbose = 2)\n",
    "grid_search.fit(X_train, yt_train)\n",
    "print('Total:', grid_search.best_params_)"
   ]
  },
  {
   "cell_type": "code",
   "execution_count": null,
   "metadata": {},
   "outputs": [],
   "source": [
    "param_grid = { 'alpha': \n",
    "              [.00001, .0001, .001, .01, .1]\n",
    "             }\n",
    "grid_search = GridSearchCV(estimator = Lasso(), param_grid = param_grid, cv = 5, n_jobs = -1, verbose = 2)\n",
    "grid_search.fit(X_train, yc_train)\n",
    "print('Children:', grid_search.best_params_)"
   ]
  },
  {
   "cell_type": "markdown",
   "metadata": {},
   "source": [
    "### Run optimized models and return R2s"
   ]
  },
  {
   "cell_type": "code",
   "execution_count": 6,
   "metadata": {},
   "outputs": [
    {
     "name": "stdout",
     "output_type": "stream",
     "text": [
      "R2 Total: 0.9239898564566531\n"
     ]
    }
   ],
   "source": [
    "#Define medel based on alpha selected by grid search\n",
    "lasso_opt_t = Lasso(alpha = 0.001)\n",
    "\n",
    "#Fit model to training dataset\n",
    "lasso_opt_t.fit(X_train, yt_train)\n",
    "\n",
    "#Use fitted model to predict test data set and return R2\n",
    "yt_pred = lasso_opt_t.predict(X_test)\n",
    "print('R2 Total:', metrics.r2_score(yt_test, yt_pred))"
   ]
  },
  {
   "cell_type": "code",
   "execution_count": 7,
   "metadata": {},
   "outputs": [
    {
     "name": "stdout",
     "output_type": "stream",
     "text": [
      "R2 Children: 0.9210775758732279\n"
     ]
    }
   ],
   "source": [
    "#Define medel based on alpha selected by grid search\n",
    "lasso_opt_c = Lasso(alpha = 0.0009)\n",
    "\n",
    "#Fit model to training dataset\n",
    "lasso_opt_c.fit(X_train, yc_train)\n",
    "\n",
    "#Use fitted model to predict test data set and return R2\n",
    "yc_pred = lasso_opt_c.predict(X_test)\n",
    "print('R2 Children:', metrics.r2_score(yc_test, yc_pred))"
   ]
  },
  {
   "cell_type": "markdown",
   "metadata": {},
   "source": [
    "### Ensure residual vs predicted plots are valid\n",
    "###### If there is a clear pattern then our lasso regression is not a viable model.\n",
    "###### Although they are not perfectly random, no clear pattern is visible in either plot"
   ]
  },
  {
   "cell_type": "code",
   "execution_count": 15,
   "metadata": {},
   "outputs": [
    {
     "name": "stdout",
     "output_type": "stream",
     "text": [
      "Residual vs. Predicted Total\n"
     ]
    },
    {
     "data": {
      "image/png": "[encoded data removed]",
      "text/plain": [
       "<Figure size 432x180 with 1 Axes>"
      ]
     },
     "metadata": {
      "needs_background": "light"
     },
     "output_type": "display_data"
    }
   ],
   "source": [
    "#Define predicted value by predicting test data set and residual by subtracting the true y\n",
    "#by the predicted y\n",
    "pred_val = lasso_opt_t.predict(X_test)\n",
    "true_val = yt_test\n",
    "residual = true_val - pred_val\n",
    "\n",
    "#Plot these numbers\n",
    "fig, ax = plt.subplots(figsize=(6,2.5))\n",
    "print('Residual vs. Predicted Total')\n",
    "_ = ax.scatter(pred_val, residual)"
   ]
  },
  {
   "cell_type": "code",
   "execution_count": 16,
   "metadata": {},
   "outputs": [
    {
     "name": "stdout",
     "output_type": "stream",
     "text": [
      "Residual vs. Predicted Children\n"
     ]
    },
    {
     "data": {
      "image/png": "[encoded data removed]",
      "text/plain": [
       "<Figure size 432x180 with 1 Axes>"
      ]
     },
     "metadata": {
      "needs_background": "light"
     },
     "output_type": "display_data"
    }
   ],
   "source": [
    "#Define predicted value by predicting test data set and residual by subtracting the true y\n",
    "#by the predicted y\n",
    "pred_val = lasso_opt_c.predict(X_test)\n",
    "true_val = yc_test\n",
    "residual = true_val - pred_val\n",
    "\n",
    "#Plot these numbers\n",
    "fig, ax = plt.subplots(figsize=(6,2.5))\n",
    "print('Residual vs. Predicted Children')\n",
    "_ = ax.scatter(pred_val, residual)"
   ]
  },
  {
   "cell_type": "code",
   "execution_count": 10,
   "metadata": {},
   "outputs": [],
   "source": [
    "pd.set_option('display.max_rows', None)\n",
    "pd.set_option('display.max_columns', None)\n",
    "pd.set_option('display.width', None)\n",
    "pd.set_option('display.max_colwidth', None)"
   ]
  },
  {
   "cell_type": "markdown",
   "metadata": {},
   "source": [
    "### Return lasso coefficients"
   ]
  },
  {
   "cell_type": "code",
   "execution_count": 11,
   "metadata": {},
   "outputs": [
    {
     "name": "stdout",
     "output_type": "stream",
     "text": [
      "Total\n",
      "                                      Dimension Coefficient\n",
      "0                                          Aged   -0.237667\n",
      "1      Agriculture_Forestry_Fishing_and_Hunting   -0.132917\n",
      "2                                   Information  -0.0750106\n",
      "3             Arts_Entertainment_and_Recreation  -0.0613108\n",
      "4                                         Other  -0.0587003\n",
      "5                         Finance_and_Insurance  -0.0506399\n",
      "6                                           PST  -0.0415661\n",
      "7           Professional_and_Technical_Services  -0.0345267\n",
      "8                                     Utilities  -0.0341291\n",
      "9               Accommodation_and_Food_Services  -0.0231588\n",
      "10                                Manufacturing  -0.0190762\n",
      "11                        Public_Administration  -0.0153063\n",
      "12                                           UR  -0.0105631\n",
      "13      Management_of_Companies_and_Enterprises -0.00714386\n",
      "14                              Wholesale_Trade -0.00211012\n",
      "15  Other_Services_Except_Public_Administration  0.00144016\n",
      "16            Health_Care_and_Social_Assistance  0.00178986\n",
      "17  Mining_Quarrying_and_Oil_and_Gas_Extraction   0.0116696\n",
      "18                                        Urban   0.0191242\n",
      "19                         Educational_Services   0.0199944\n",
      "20               Transportation_and_Warehousing   0.0228076\n",
      "21           Real_Estate_and_Rental_and_Leasing   0.0228885\n",
      "22                                 Construction   0.0252576\n",
      "23                                         CHIP   0.0314428\n",
      "24                                         POCR   0.0874558\n",
      "25            Administrative_and_Waste_Services    0.144066\n",
      "26                                     Pregnant    0.144842\n",
      "27                                     Disabled    0.160875\n",
      "28                                 Retail_Trade    0.269926\n",
      "29                                   Population    0.473717\n"
     ]
    }
   ],
   "source": [
    "#Get dimension names\n",
    "Xcol = X.copy()\n",
    "\n",
    "#Put into proper data format\n",
    "coefficients_t = pd.DataFrame(pd.concat([pd.DataFrame(Xcol.columns),pd.DataFrame(\n",
    "    np.transpose(lasso_opt_t.coef_))], axis = 1))\n",
    "coefficients_t = coefficients_t.values\n",
    "coefficients_t = pd.DataFrame(coefficients_t, columns = ['Dimension', 'Coefficient'])\n",
    "\n",
    "#Exclude coefficients equal to zero\n",
    "coef_not_zero_t = coefficients_t[coefficients_t['Coefficient']!=0]\n",
    "\n",
    "#Sort and print coefficients\n",
    "coef_not_zero_t = coef_not_zero_t.sort_values(by = ['Coefficient']).reset_index()\n",
    "print('Total')\n",
    "print(coef_not_zero_t[['Dimension', 'Coefficient']])"
   ]
  },
  {
   "cell_type": "code",
   "execution_count": 12,
   "metadata": {},
   "outputs": [
    {
     "name": "stdout",
     "output_type": "stream",
     "text": [
      "Children\n",
      "                                      Dimension Coefficient\n",
      "0                                          Aged   -0.266563\n",
      "1      Agriculture_Forestry_Fishing_and_Hunting   -0.134917\n",
      "2                                         Other   -0.107948\n",
      "3                                   Information  -0.0732111\n",
      "4             Arts_Entertainment_and_Recreation  -0.0628562\n",
      "5                                           PST  -0.0532079\n",
      "6                         Finance_and_Insurance  -0.0414774\n",
      "7                         Public_Administration   -0.031517\n",
      "8                                     Utilities  -0.0299395\n",
      "9           Professional_and_Technical_Services  -0.0219887\n",
      "10              Accommodation_and_Food_Services  -0.0160414\n",
      "11                                Manufacturing  -0.0152113\n",
      "12      Management_of_Companies_and_Enterprises -0.00828337\n",
      "13                              Wholesale_Trade -0.00664408\n",
      "14            Health_Care_and_Social_Assistance  0.00630751\n",
      "15                                        Urban  0.00942226\n",
      "16  Mining_Quarrying_and_Oil_and_Gas_Extraction   0.0108907\n",
      "17               Transportation_and_Warehousing   0.0172684\n",
      "18           Real_Estate_and_Rental_and_Leasing   0.0221352\n",
      "19                                 Construction   0.0227535\n",
      "20                         Educational_Services   0.0304019\n",
      "21                                         POCR    0.126551\n",
      "22                                     Disabled    0.133194\n",
      "23            Administrative_and_Waste_Services    0.147023\n",
      "24                                     Pregnant    0.201867\n",
      "25                                 Retail_Trade    0.262247\n",
      "26                                   Population    0.470857\n"
     ]
    }
   ],
   "source": [
    "#Put into proper data format\n",
    "coefficients_c = pd.DataFrame(pd.concat([pd.DataFrame(Xcol.columns),pd.DataFrame(\n",
    "    np.transpose(lasso_opt_c.coef_))], axis = 1))\n",
    "coefficients_c = coefficients_c.values\n",
    "coefficients_c = pd.DataFrame(coefficients_c, columns = ['Dimension', 'Coefficient'])\n",
    "\n",
    "#Exclude coefficients equal to zero\n",
    "coef_not_zero_c = coefficients_c[coefficients_c['Coefficient']!=0]\n",
    "\n",
    "#Sort and print coefficients\n",
    "coef_not_zero_c = coef_not_zero_c.sort_values(by = ['Coefficient']).reset_index()\n",
    "print('Children')\n",
    "print(coef_not_zero_c[['Dimension', 'Coefficient']])"
   ]
  }
 ],
 "metadata": {
  "kernelspec": {
   "display_name": "Python 3",
   "language": "python",
   "name": "python3"
  },
  "language_info": {
   "codemirror_mode": {
    "name": "ipython",
    "version": 3
   },
   "file_extension": ".py",
   "mimetype": "text/x-python",
   "name": "python",
   "nbconvert_exporter": "python",
   "pygments_lexer": "ipython3",
   "version": "3.7.6"
  }
 },
 "nbformat": 4,
 "nbformat_minor": 4
}
